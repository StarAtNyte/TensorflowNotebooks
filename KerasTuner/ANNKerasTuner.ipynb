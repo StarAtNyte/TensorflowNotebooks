{
 "cells": [
  {
   "cell_type": "code",
   "execution_count": 10,
   "id": "f2b27d96-577e-433f-94f7-ab9633dc4d45",
   "metadata": {},
   "outputs": [],
   "source": [
    "import pandas as pd\n",
    "from tensorflow import keras\n",
    "from tensorflow.keras import layers\n",
    "from keras_tuner.tuners import RandomSearch"
   ]
  },
  {
   "cell_type": "code",
   "execution_count": 33,
   "id": "77608a21-7fa3-4f53-892a-c20f8b865535",
   "metadata": {},
   "outputs": [],
   "source": [
    "df =  pd.read_csv('data.csv')\n",
    "df.head()\n",
    "df.dropna(inplace= True)"
   ]
  },
  {
   "cell_type": "code",
   "execution_count": 34,
   "id": "cf9d8da5-b765-4ab7-b2e4-886bde24b068",
   "metadata": {},
   "outputs": [],
   "source": [
    "X = df.iloc[:,:-1]\n",
    "y = df.iloc[:,-1]"
   ]
  },
  {
   "cell_type": "code",
   "execution_count": 35,
   "id": "986ed6b1-0484-4f22-a674-72557feb5556",
   "metadata": {},
   "outputs": [
    {
     "data": {
      "text/html": [
       "<div>\n",
       "<style scoped>\n",
       "    .dataframe tbody tr th:only-of-type {\n",
       "        vertical-align: middle;\n",
       "    }\n",
       "\n",
       "    .dataframe tbody tr th {\n",
       "        vertical-align: top;\n",
       "    }\n",
       "\n",
       "    .dataframe thead th {\n",
       "        text-align: right;\n",
       "    }\n",
       "</style>\n",
       "<table border=\"1\" class=\"dataframe\">\n",
       "  <thead>\n",
       "    <tr style=\"text-align: right;\">\n",
       "      <th></th>\n",
       "      <th>T</th>\n",
       "      <th>TM</th>\n",
       "      <th>Tm</th>\n",
       "      <th>SLP</th>\n",
       "      <th>H</th>\n",
       "      <th>VV</th>\n",
       "      <th>V</th>\n",
       "      <th>VM</th>\n",
       "    </tr>\n",
       "  </thead>\n",
       "  <tbody>\n",
       "    <tr>\n",
       "      <th>0</th>\n",
       "      <td>7.4</td>\n",
       "      <td>9.8</td>\n",
       "      <td>4.8</td>\n",
       "      <td>1017.6</td>\n",
       "      <td>93.0</td>\n",
       "      <td>0.5</td>\n",
       "      <td>4.3</td>\n",
       "      <td>9.4</td>\n",
       "    </tr>\n",
       "    <tr>\n",
       "      <th>1</th>\n",
       "      <td>7.8</td>\n",
       "      <td>12.7</td>\n",
       "      <td>4.4</td>\n",
       "      <td>1018.5</td>\n",
       "      <td>87.0</td>\n",
       "      <td>0.6</td>\n",
       "      <td>4.4</td>\n",
       "      <td>11.1</td>\n",
       "    </tr>\n",
       "    <tr>\n",
       "      <th>2</th>\n",
       "      <td>6.7</td>\n",
       "      <td>13.4</td>\n",
       "      <td>2.4</td>\n",
       "      <td>1019.4</td>\n",
       "      <td>82.0</td>\n",
       "      <td>0.6</td>\n",
       "      <td>4.8</td>\n",
       "      <td>11.1</td>\n",
       "    </tr>\n",
       "    <tr>\n",
       "      <th>3</th>\n",
       "      <td>8.6</td>\n",
       "      <td>15.5</td>\n",
       "      <td>3.3</td>\n",
       "      <td>1018.7</td>\n",
       "      <td>72.0</td>\n",
       "      <td>0.8</td>\n",
       "      <td>8.1</td>\n",
       "      <td>20.6</td>\n",
       "    </tr>\n",
       "    <tr>\n",
       "      <th>4</th>\n",
       "      <td>12.4</td>\n",
       "      <td>20.9</td>\n",
       "      <td>4.4</td>\n",
       "      <td>1017.3</td>\n",
       "      <td>61.0</td>\n",
       "      <td>1.3</td>\n",
       "      <td>8.7</td>\n",
       "      <td>22.2</td>\n",
       "    </tr>\n",
       "  </tbody>\n",
       "</table>\n",
       "</div>"
      ],
      "text/plain": [
       "      T    TM   Tm     SLP     H   VV    V    VM\n",
       "0   7.4   9.8  4.8  1017.6  93.0  0.5  4.3   9.4\n",
       "1   7.8  12.7  4.4  1018.5  87.0  0.6  4.4  11.1\n",
       "2   6.7  13.4  2.4  1019.4  82.0  0.6  4.8  11.1\n",
       "3   8.6  15.5  3.3  1018.7  72.0  0.8  8.1  20.6\n",
       "4  12.4  20.9  4.4  1017.3  61.0  1.3  8.7  22.2"
      ]
     },
     "execution_count": 35,
     "metadata": {},
     "output_type": "execute_result"
    }
   ],
   "source": [
    "X.head()"
   ]
  },
  {
   "cell_type": "code",
   "execution_count": 36,
   "id": "9a8138ee-03bc-4310-883b-427cd4be7975",
   "metadata": {},
   "outputs": [
    {
     "data": {
      "text/plain": [
       "0    219.720833\n",
       "1    182.187500\n",
       "2    154.037500\n",
       "3    223.208333\n",
       "4    200.645833\n",
       "Name: PM 2.5, dtype: float64"
      ]
     },
     "execution_count": 36,
     "metadata": {},
     "output_type": "execute_result"
    }
   ],
   "source": [
    "y.head()"
   ]
  },
  {
   "cell_type": "code",
   "execution_count": 37,
   "id": "adbebbb0-72ce-4663-9138-9478d40b4593",
   "metadata": {},
   "outputs": [],
   "source": [
    "def build_model(hp):\n",
    "    model = keras.Sequential()\n",
    "    for i in range(hp.Int('num_layers',2,20)):\n",
    "        model.add(layers.Dense(units = hp.Int('units_' + str(i),\n",
    "                                              min_value = 32,\n",
    "                                              max_value = 512,\n",
    "                                              step = 32),\n",
    "                               activation = 'relu'))\n",
    "    model.add(layers.Dense(1, activation = 'linear'))\n",
    "    model.compile(\n",
    "        optimizer = keras.optimizers.Adam(\n",
    "            hp.Choice('learning_rate', [1e-2,1e-3,1e-4])),\n",
    "        loss = 'mean_absolute_error',\n",
    "        metrics = ['mean_absolute_error'])\n",
    "    return model"
   ]
  },
  {
   "cell_type": "code",
   "execution_count": 38,
   "id": "2ecafe95-d3f3-4a16-965b-cc0923306f0c",
   "metadata": {},
   "outputs": [
    {
     "name": "stdout",
     "output_type": "stream",
     "text": [
      "INFO:tensorflow:Reloading Tuner from ./untitled_project/tuner0.json\n"
     ]
    }
   ],
   "source": [
    "tuner = RandomSearch(\n",
    "    build_model,\n",
    "    objective = 'val_loss',\n",
    "    max_trials = 5\n",
    ")"
   ]
  },
  {
   "cell_type": "code",
   "execution_count": 39,
   "id": "a03b3c42-fe9c-428d-8d1e-9a6782d13210",
   "metadata": {},
   "outputs": [
    {
     "name": "stdout",
     "output_type": "stream",
     "text": [
      "Search space summary\n",
      "Default search space size: 19\n",
      "num_layers (Int)\n",
      "{'default': None, 'conditions': [], 'min_value': 2, 'max_value': 20, 'step': 1, 'sampling': 'linear'}\n",
      "units_0 (Int)\n",
      "{'default': None, 'conditions': [], 'min_value': 32, 'max_value': 512, 'step': 32, 'sampling': 'linear'}\n",
      "learning_rate (Choice)\n",
      "{'default': 0.01, 'conditions': [], 'values': [0.01, 0.001, 0.0001], 'ordered': True}\n",
      "units_1 (Int)\n",
      "{'default': None, 'conditions': [], 'min_value': 32, 'max_value': 512, 'step': 32, 'sampling': 'linear'}\n",
      "units_2 (Int)\n",
      "{'default': None, 'conditions': [], 'min_value': 32, 'max_value': 512, 'step': 32, 'sampling': 'linear'}\n",
      "units_3 (Int)\n",
      "{'default': None, 'conditions': [], 'min_value': 32, 'max_value': 512, 'step': 32, 'sampling': 'linear'}\n",
      "units_4 (Int)\n",
      "{'default': None, 'conditions': [], 'min_value': 32, 'max_value': 512, 'step': 32, 'sampling': 'linear'}\n",
      "units_5 (Int)\n",
      "{'default': None, 'conditions': [], 'min_value': 32, 'max_value': 512, 'step': 32, 'sampling': 'linear'}\n",
      "units_6 (Int)\n",
      "{'default': None, 'conditions': [], 'min_value': 32, 'max_value': 512, 'step': 32, 'sampling': 'linear'}\n",
      "units_7 (Int)\n",
      "{'default': None, 'conditions': [], 'min_value': 32, 'max_value': 512, 'step': 32, 'sampling': 'linear'}\n",
      "units_8 (Int)\n",
      "{'default': None, 'conditions': [], 'min_value': 32, 'max_value': 512, 'step': 32, 'sampling': 'linear'}\n",
      "units_9 (Int)\n",
      "{'default': None, 'conditions': [], 'min_value': 32, 'max_value': 512, 'step': 32, 'sampling': 'linear'}\n",
      "units_10 (Int)\n",
      "{'default': None, 'conditions': [], 'min_value': 32, 'max_value': 512, 'step': 32, 'sampling': 'linear'}\n",
      "units_11 (Int)\n",
      "{'default': None, 'conditions': [], 'min_value': 32, 'max_value': 512, 'step': 32, 'sampling': 'linear'}\n",
      "units_12 (Int)\n",
      "{'default': None, 'conditions': [], 'min_value': 32, 'max_value': 512, 'step': 32, 'sampling': 'linear'}\n",
      "units_13 (Int)\n",
      "{'default': None, 'conditions': [], 'min_value': 32, 'max_value': 512, 'step': 32, 'sampling': 'linear'}\n",
      "units_14 (Int)\n",
      "{'default': None, 'conditions': [], 'min_value': 32, 'max_value': 512, 'step': 32, 'sampling': 'linear'}\n",
      "units_15 (Int)\n",
      "{'default': None, 'conditions': [], 'min_value': 32, 'max_value': 512, 'step': 32, 'sampling': 'linear'}\n",
      "units_16 (Int)\n",
      "{'default': None, 'conditions': [], 'min_value': 32, 'max_value': 512, 'step': 32, 'sampling': 'linear'}\n"
     ]
    }
   ],
   "source": [
    "tuner.search_space_summary()"
   ]
  },
  {
   "cell_type": "code",
   "execution_count": 40,
   "id": "b4cb6c3a-c529-486b-b808-91d34a89786d",
   "metadata": {},
   "outputs": [],
   "source": [
    "from sklearn.model_selection import train_test_split\n",
    "X_train, X_test, y_train, y_test = train_test_split(X,y, test_size = 0.3,random_state = 42)\n"
   ]
  },
  {
   "cell_type": "code",
   "execution_count": 41,
   "id": "77ab7d8a-dd4c-4037-9c55-f9d0e70bcf0c",
   "metadata": {},
   "outputs": [
    {
     "name": "stdout",
     "output_type": "stream",
     "text": [
      "Trial 5 Complete [00h 00m 02s]\n",
      "val_loss: 59.198997497558594\n",
      "\n",
      "Best val_loss So Far: 59.198997497558594\n",
      "Total elapsed time: 00h 00m 04s\n",
      "INFO:tensorflow:Oracle triggered exit\n"
     ]
    }
   ],
   "source": [
    "tuner.search(X_train, y_train, epochs = 10,validation_data = (X_test, y_test))\n"
   ]
  },
  {
   "cell_type": "code",
   "execution_count": 42,
   "id": "8f1adac5-b8d1-4571-994a-fa00bec21beb",
   "metadata": {},
   "outputs": [],
   "source": [
    "best_model = tuner.get_best_models()[0]            "
   ]
  },
  {
   "cell_type": "code",
   "execution_count": 51,
   "id": "2bf4b4cd-a516-42a0-ac69-531eb5b2c3cb",
   "metadata": {},
   "outputs": [],
   "source": [
    "best_hps=tuner.get_best_hyperparameters()[0]"
   ]
  },
  {
   "cell_type": "code",
   "execution_count": 52,
   "id": "2a27a9af-a2b1-42f2-b10c-ab3a26e514f9",
   "metadata": {},
   "outputs": [],
   "source": [
    "model = tuner.hypermodel.build(best_hps)"
   ]
  },
  {
   "cell_type": "code",
   "execution_count": 53,
   "id": "5c94201d-3945-4c1f-9976-b5b1c8a372a8",
   "metadata": {},
   "outputs": [
    {
     "name": "stdout",
     "output_type": "stream",
     "text": [
      "Epoch 1/50\n",
      "20/20 [==============================] - 1s 6ms/step - loss: 73.8834 - mean_absolute_error: 73.8834 - val_loss: 69.5757 - val_mean_absolute_error: 69.5757\n",
      "Epoch 2/50\n",
      "20/20 [==============================] - 0s 3ms/step - loss: 67.9526 - mean_absolute_error: 67.9526 - val_loss: 70.4502 - val_mean_absolute_error: 70.4502\n",
      "Epoch 3/50\n",
      "20/20 [==============================] - 0s 3ms/step - loss: 67.3923 - mean_absolute_error: 67.3923 - val_loss: 69.4932 - val_mean_absolute_error: 69.4932\n",
      "Epoch 4/50\n",
      "20/20 [==============================] - 0s 3ms/step - loss: 67.3235 - mean_absolute_error: 67.3235 - val_loss: 69.6750 - val_mean_absolute_error: 69.6750\n",
      "Epoch 5/50\n",
      "20/20 [==============================] - 0s 3ms/step - loss: 67.1963 - mean_absolute_error: 67.1963 - val_loss: 69.1593 - val_mean_absolute_error: 69.1593\n",
      "Epoch 6/50\n",
      "20/20 [==============================] - 0s 3ms/step - loss: 67.4386 - mean_absolute_error: 67.4386 - val_loss: 69.3819 - val_mean_absolute_error: 69.3819\n",
      "Epoch 7/50\n",
      "20/20 [==============================] - 0s 3ms/step - loss: 67.0408 - mean_absolute_error: 67.0408 - val_loss: 69.4718 - val_mean_absolute_error: 69.4718\n",
      "Epoch 8/50\n",
      "20/20 [==============================] - 0s 3ms/step - loss: 66.9595 - mean_absolute_error: 66.9595 - val_loss: 69.2993 - val_mean_absolute_error: 69.2993\n",
      "Epoch 9/50\n",
      "20/20 [==============================] - 0s 3ms/step - loss: 67.3413 - mean_absolute_error: 67.3413 - val_loss: 71.0691 - val_mean_absolute_error: 71.0691\n",
      "Epoch 10/50\n",
      "20/20 [==============================] - 0s 3ms/step - loss: 67.3468 - mean_absolute_error: 67.3468 - val_loss: 68.8880 - val_mean_absolute_error: 68.8880\n",
      "Epoch 11/50\n",
      "20/20 [==============================] - 0s 3ms/step - loss: 67.3676 - mean_absolute_error: 67.3676 - val_loss: 69.7777 - val_mean_absolute_error: 69.7777\n",
      "Epoch 12/50\n",
      "20/20 [==============================] - 0s 3ms/step - loss: 66.7189 - mean_absolute_error: 66.7189 - val_loss: 68.6698 - val_mean_absolute_error: 68.6698\n",
      "Epoch 13/50\n",
      "20/20 [==============================] - 0s 3ms/step - loss: 66.5464 - mean_absolute_error: 66.5464 - val_loss: 69.8061 - val_mean_absolute_error: 69.8061\n",
      "Epoch 14/50\n",
      "20/20 [==============================] - 0s 3ms/step - loss: 67.3838 - mean_absolute_error: 67.3838 - val_loss: 68.4535 - val_mean_absolute_error: 68.4535\n",
      "Epoch 15/50\n",
      "20/20 [==============================] - 0s 3ms/step - loss: 66.5779 - mean_absolute_error: 66.5779 - val_loss: 68.3532 - val_mean_absolute_error: 68.3532\n",
      "Epoch 16/50\n",
      "20/20 [==============================] - 0s 3ms/step - loss: 66.2925 - mean_absolute_error: 66.2925 - val_loss: 68.1091 - val_mean_absolute_error: 68.1091\n",
      "Epoch 17/50\n",
      "20/20 [==============================] - 0s 3ms/step - loss: 67.1238 - mean_absolute_error: 67.1238 - val_loss: 68.2689 - val_mean_absolute_error: 68.2689\n",
      "Epoch 18/50\n",
      "20/20 [==============================] - 0s 3ms/step - loss: 65.9300 - mean_absolute_error: 65.9300 - val_loss: 68.3716 - val_mean_absolute_error: 68.3716\n",
      "Epoch 19/50\n",
      "20/20 [==============================] - 0s 3ms/step - loss: 65.5924 - mean_absolute_error: 65.5924 - val_loss: 67.2975 - val_mean_absolute_error: 67.2975\n",
      "Epoch 20/50\n",
      "20/20 [==============================] - 0s 3ms/step - loss: 65.5035 - mean_absolute_error: 65.5035 - val_loss: 67.7814 - val_mean_absolute_error: 67.7814\n",
      "Epoch 21/50\n",
      "20/20 [==============================] - 0s 3ms/step - loss: 65.3160 - mean_absolute_error: 65.3160 - val_loss: 69.1021 - val_mean_absolute_error: 69.1021\n",
      "Epoch 22/50\n",
      "20/20 [==============================] - 0s 3ms/step - loss: 66.1411 - mean_absolute_error: 66.1411 - val_loss: 66.2202 - val_mean_absolute_error: 66.2202\n",
      "Epoch 23/50\n",
      "20/20 [==============================] - 0s 3ms/step - loss: 64.9666 - mean_absolute_error: 64.9666 - val_loss: 66.4654 - val_mean_absolute_error: 66.4654\n",
      "Epoch 24/50\n",
      "20/20 [==============================] - 0s 3ms/step - loss: 63.9735 - mean_absolute_error: 63.9735 - val_loss: 66.8937 - val_mean_absolute_error: 66.8937\n",
      "Epoch 25/50\n",
      "20/20 [==============================] - 0s 3ms/step - loss: 63.9487 - mean_absolute_error: 63.9487 - val_loss: 64.7180 - val_mean_absolute_error: 64.7180\n",
      "Epoch 26/50\n",
      "20/20 [==============================] - 0s 3ms/step - loss: 63.5067 - mean_absolute_error: 63.5067 - val_loss: 63.4777 - val_mean_absolute_error: 63.4777\n",
      "Epoch 27/50\n",
      "20/20 [==============================] - 0s 3ms/step - loss: 62.5103 - mean_absolute_error: 62.5103 - val_loss: 66.8314 - val_mean_absolute_error: 66.8314\n",
      "Epoch 28/50\n",
      "20/20 [==============================] - 0s 3ms/step - loss: 62.6435 - mean_absolute_error: 62.6435 - val_loss: 61.4244 - val_mean_absolute_error: 61.4244\n",
      "Epoch 29/50\n",
      "20/20 [==============================] - 0s 3ms/step - loss: 60.9046 - mean_absolute_error: 60.9046 - val_loss: 59.9207 - val_mean_absolute_error: 59.9207\n",
      "Epoch 30/50\n",
      "20/20 [==============================] - 0s 3ms/step - loss: 61.4676 - mean_absolute_error: 61.4676 - val_loss: 59.4178 - val_mean_absolute_error: 59.4178\n",
      "Epoch 31/50\n",
      "20/20 [==============================] - 0s 3ms/step - loss: 60.5841 - mean_absolute_error: 60.5841 - val_loss: 60.7461 - val_mean_absolute_error: 60.7461\n",
      "Epoch 32/50\n",
      "20/20 [==============================] - 0s 3ms/step - loss: 58.8951 - mean_absolute_error: 58.8951 - val_loss: 57.3230 - val_mean_absolute_error: 57.3230\n",
      "Epoch 33/50\n",
      "20/20 [==============================] - 0s 3ms/step - loss: 61.4652 - mean_absolute_error: 61.4652 - val_loss: 58.0466 - val_mean_absolute_error: 58.0466\n",
      "Epoch 34/50\n",
      "20/20 [==============================] - 0s 3ms/step - loss: 60.0127 - mean_absolute_error: 60.0127 - val_loss: 62.4941 - val_mean_absolute_error: 62.4941\n",
      "Epoch 35/50\n",
      "20/20 [==============================] - 0s 3ms/step - loss: 57.9804 - mean_absolute_error: 57.9804 - val_loss: 56.8361 - val_mean_absolute_error: 56.8361\n",
      "Epoch 36/50\n",
      "20/20 [==============================] - 0s 3ms/step - loss: 57.2970 - mean_absolute_error: 57.2970 - val_loss: 53.5685 - val_mean_absolute_error: 53.5685\n",
      "Epoch 37/50\n",
      "20/20 [==============================] - 0s 3ms/step - loss: 55.4257 - mean_absolute_error: 55.4257 - val_loss: 56.8083 - val_mean_absolute_error: 56.8083\n",
      "Epoch 38/50\n",
      "20/20 [==============================] - 0s 3ms/step - loss: 56.7923 - mean_absolute_error: 56.7923 - val_loss: 51.4358 - val_mean_absolute_error: 51.4358\n",
      "Epoch 39/50\n",
      "20/20 [==============================] - 0s 3ms/step - loss: 52.4235 - mean_absolute_error: 52.4235 - val_loss: 48.4035 - val_mean_absolute_error: 48.4035\n",
      "Epoch 40/50\n",
      "20/20 [==============================] - 0s 3ms/step - loss: 50.7060 - mean_absolute_error: 50.7060 - val_loss: 51.6539 - val_mean_absolute_error: 51.6539\n",
      "Epoch 41/50\n",
      "20/20 [==============================] - 0s 3ms/step - loss: 50.2717 - mean_absolute_error: 50.2717 - val_loss: 57.4876 - val_mean_absolute_error: 57.4876\n",
      "Epoch 42/50\n",
      "20/20 [==============================] - 0s 3ms/step - loss: 51.7294 - mean_absolute_error: 51.7294 - val_loss: 47.7105 - val_mean_absolute_error: 47.7105\n",
      "Epoch 43/50\n",
      "20/20 [==============================] - 0s 3ms/step - loss: 51.8815 - mean_absolute_error: 51.8815 - val_loss: 45.8411 - val_mean_absolute_error: 45.8411\n",
      "Epoch 44/50\n",
      "20/20 [==============================] - 0s 3ms/step - loss: 54.5134 - mean_absolute_error: 54.5134 - val_loss: 51.1014 - val_mean_absolute_error: 51.1014\n",
      "Epoch 45/50\n",
      "20/20 [==============================] - 0s 3ms/step - loss: 53.9968 - mean_absolute_error: 53.9968 - val_loss: 46.7383 - val_mean_absolute_error: 46.7383\n",
      "Epoch 46/50\n",
      "20/20 [==============================] - 0s 3ms/step - loss: 48.8779 - mean_absolute_error: 48.8779 - val_loss: 50.8611 - val_mean_absolute_error: 50.8611\n",
      "Epoch 47/50\n",
      "20/20 [==============================] - 0s 3ms/step - loss: 47.6218 - mean_absolute_error: 47.6218 - val_loss: 44.5849 - val_mean_absolute_error: 44.5849\n",
      "Epoch 48/50\n",
      "20/20 [==============================] - 0s 3ms/step - loss: 48.2852 - mean_absolute_error: 48.2852 - val_loss: 46.3633 - val_mean_absolute_error: 46.3633\n",
      "Epoch 49/50\n",
      "20/20 [==============================] - 0s 3ms/step - loss: 47.9883 - mean_absolute_error: 47.9883 - val_loss: 48.6752 - val_mean_absolute_error: 48.6752\n",
      "Epoch 50/50\n",
      "20/20 [==============================] - 0s 3ms/step - loss: 46.2115 - mean_absolute_error: 46.2115 - val_loss: 44.6317 - val_mean_absolute_error: 44.6317\n"
     ]
    }
   ],
   "source": [
    "history = model.fit(X_train, y_train, epochs=50, validation_split=0.2)"
   ]
  },
  {
   "cell_type": "code",
   "execution_count": null,
   "id": "7cec365c-55dc-4de6-b309-2e9dc45b87e9",
   "metadata": {},
   "outputs": [],
   "source": []
  }
 ],
 "metadata": {
  "kernelspec": {
   "display_name": "Python 3 (ipykernel)",
   "language": "python",
   "name": "python3"
  },
  "language_info": {
   "codemirror_mode": {
    "name": "ipython",
    "version": 3
   },
   "file_extension": ".py",
   "mimetype": "text/x-python",
   "name": "python",
   "nbconvert_exporter": "python",
   "pygments_lexer": "ipython3",
   "version": "3.11.3"
  }
 },
 "nbformat": 4,
 "nbformat_minor": 5
}
