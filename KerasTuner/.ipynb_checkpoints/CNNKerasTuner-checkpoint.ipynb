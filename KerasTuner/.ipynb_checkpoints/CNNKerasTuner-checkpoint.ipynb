{
 "cells": [
  {
   "cell_type": "code",
   "execution_count": 5,
   "id": "6f0b1774-b196-4df7-a52c-2d07d7bba419",
   "metadata": {},
   "outputs": [],
   "source": [
    "import tensorflow as tf\n",
    "from tensorflow import keras\n",
    "import numpy as np"
   ]
  },
  {
   "cell_type": "code",
   "execution_count": 8,
   "id": "d7417217-6f81-4e15-8d58-7d874a18e3f9",
   "metadata": {},
   "outputs": [],
   "source": [
    "fashion_mnist = keras.datasets.fashion_mnist"
   ]
  },
  {
   "cell_type": "code",
   "execution_count": 9,
   "id": "caa0c404-6206-4d57-b12e-4298575ecb08",
   "metadata": {},
   "outputs": [
    {
     "name": "stdout",
     "output_type": "stream",
     "text": [
      "Downloading data from https://storage.googleapis.com/tensorflow/tf-keras-datasets/train-labels-idx1-ubyte.gz\n",
      "29515/29515 [==============================] - 0s 1us/step\n",
      "Downloading data from https://storage.googleapis.com/tensorflow/tf-keras-datasets/train-images-idx3-ubyte.gz\n",
      "26421880/26421880 [==============================] - 1s 0us/step\n",
      "Downloading data from https://storage.googleapis.com/tensorflow/tf-keras-datasets/t10k-labels-idx1-ubyte.gz\n",
      "5148/5148 [==============================] - 0s 0us/step\n",
      "Downloading data from https://storage.googleapis.com/tensorflow/tf-keras-datasets/t10k-images-idx3-ubyte.gz\n",
      "4422102/4422102 [==============================] - 0s 0us/step\n"
     ]
    }
   ],
   "source": [
    "(train_images, train_labels), (test_images, test_labels) = fashion_mnist.load_data()"
   ]
  },
  {
   "cell_type": "code",
   "execution_count": 11,
   "id": "d03c37da-ec42-479d-b68e-63084edb600e",
   "metadata": {},
   "outputs": [],
   "source": [
    "train_images = train_images/255.0\n",
    "test_images = test_images/255.0"
   ]
  },
  {
   "cell_type": "code",
   "execution_count": null,
   "id": "184c94ec-c621-4c75-b278-a85ecef04cbf",
   "metadata": {},
   "outputs": [],
   "source": [
    "train_images.shape"
   ]
  },
  {
   "cell_type": "code",
   "execution_count": 17,
   "id": "aa3e2672-f19d-4c9b-a704-e1264d597dd1",
   "metadata": {},
   "outputs": [],
   "source": [
    "train_images = train_images.reshape(len(train_images),28,28,1)\n",
    "test_images = test_images.reshape(len(test_images),28,28,1)"
   ]
  },
  {
   "cell_type": "code",
   "execution_count": 18,
   "id": "6f34edc3-1028-4734-97cd-c426bd4a0cd1",
   "metadata": {},
   "outputs": [
    {
     "data": {
      "text/plain": [
       "(60000, 28, 28, 1)"
      ]
     },
     "execution_count": 18,
     "metadata": {},
     "output_type": "execute_result"
    }
   ],
   "source": [
    "train_images.shape"
   ]
  },
  {
   "cell_type": "code",
   "execution_count": 24,
   "id": "a1831d04-623a-477a-b591-1f2a0c8a1882",
   "metadata": {},
   "outputs": [],
   "source": [
    "def build_model(hp):\n",
    "    model = keras.Sequential([\n",
    "        keras.layers.Conv2D(\n",
    "            filters = hp.Int('conv_1_filter', min_value = 32, max_value = 128, step = 16),\n",
    "            kernel_size = hp.Choice('conv_1_kernel', values = [3,5]),\n",
    "            activation = 'relu',\n",
    "            input_shape = (28,28,1)\n",
    "        ),\n",
    "        keras.layers.Conv2D(\n",
    "            filters = hp.Int('conv_2_filter', min_value = 32, max_value = 64, step = 16),\n",
    "            kernel_size = hp.Choice('conv_1_kernel', values = [3,5]),\n",
    "            activation = 'relu',\n",
    "        ),\n",
    "        keras.layers.Flatten(),\n",
    "        keras.layers.Dense(\n",
    "            units = hp.Int('dense_1_units' , min_value = 32, max_value = 128, step = 16),\n",
    "            activation = 'relu'\n",
    "        ),\n",
    "        keras.layers.Dense(10, activation = 'softmax')\n",
    "    ])\n",
    "    \n",
    "    model.compile(optimizer = keras.optimizers.Adam(hp.Choice('learning_rate', values= [1e-2,1e-3,1e-4])),\n",
    "                  loss = 'sparse_categorical_crossentropy',\n",
    "                  metrics = ['accuracy'])\n",
    "    return model        "
   ]
  },
  {
   "cell_type": "code",
   "execution_count": 25,
   "id": "44cc8aef-4be7-44ec-8386-0398e3940cff",
   "metadata": {},
   "outputs": [],
   "source": [
    "from keras_tuner import RandomSearch\n",
    "from keras_tuner.engine.hyperparameters import HyperParameters"
   ]
  },
  {
   "cell_type": "code",
   "execution_count": 30,
   "id": "3b2a9cc5-e5df-43ed-9d8d-d64a71e2c377",
   "metadata": {},
   "outputs": [
    {
     "name": "stdout",
     "output_type": "stream",
     "text": [
      "INFO:tensorflow:Reloading Tuner from output/untitled_project/tuner0.json\n"
     ]
    }
   ],
   "source": [
    "tuner_search = RandomSearch(\n",
    "    build_model,\n",
    "    objective = 'val_accuracy',\n",
    "    max_trials = 2,\n",
    "    directory = 'output')"
   ]
  },
  {
   "cell_type": "code",
   "execution_count": 32,
   "id": "cdb9cecf-16df-4af0-8add-b106a59ea6d4",
   "metadata": {},
   "outputs": [],
   "source": [
    "stop_early = tf.keras.callbacks.EarlyStopping(monitor='val_loss', patience=2)\n"
   ]
  },
  {
   "cell_type": "code",
   "execution_count": 33,
   "id": "985a59e9-1d84-469f-9e61-092c4734b39b",
   "metadata": {},
   "outputs": [
    {
     "name": "stdout",
     "output_type": "stream",
     "text": [
      "Trial 4 Complete [00h 03m 54s]\n",
      "val_accuracy: 0.9151666760444641\n",
      "\n",
      "Best val_accuracy So Far: 0.9151666760444641\n",
      "Total elapsed time: 00h 03m 54s\n",
      "INFO:tensorflow:Oracle triggered exit\n"
     ]
    }
   ],
   "source": [
    "tuner_search.search(train_images,train_labels,epochs=3, validation_split =0.1,callbacks=[stop_early])"
   ]
  },
  {
   "cell_type": "code",
   "execution_count": 35,
   "id": "e98fe32e-c68a-4aae-855c-eb353c9d9652",
   "metadata": {},
   "outputs": [],
   "source": [
    "best_hps=tuner_search.get_best_hyperparameters()[0]"
   ]
  },
  {
   "cell_type": "code",
   "execution_count": 37,
   "id": "af6f9cac-9a50-4a81-9291-1f7516386236",
   "metadata": {},
   "outputs": [
    {
     "name": "stdout",
     "output_type": "stream",
     "text": [
      "Model: \"sequential_1\"\n",
      "_________________________________________________________________\n",
      " Layer (type)                Output Shape              Param #   \n",
      "=================================================================\n",
      " conv2d_2 (Conv2D)           (None, 26, 26, 32)        320       \n",
      "                                                                 \n",
      " conv2d_3 (Conv2D)           (None, 24, 24, 64)        18496     \n",
      "                                                                 \n",
      " flatten_1 (Flatten)         (None, 36864)             0         \n",
      "                                                                 \n",
      " dense_2 (Dense)             (None, 96)                3539040   \n",
      "                                                                 \n",
      " dense_3 (Dense)             (None, 10)                970       \n",
      "                                                                 \n",
      "=================================================================\n",
      "Total params: 3,558,826\n",
      "Trainable params: 3,558,826\n",
      "Non-trainable params: 0\n",
      "_________________________________________________________________\n"
     ]
    }
   ],
   "source": [
    "model = tuner_search.hypermodel.build(best_hps)\n",
    "model.summary()"
   ]
  },
  {
   "cell_type": "code",
   "execution_count": 39,
   "id": "5340ec5c-4cfd-40eb-938b-cc42bf0d1eef",
   "metadata": {},
   "outputs": [
    {
     "name": "stdout",
     "output_type": "stream",
     "text": [
      "Epoch 1/10\n",
      "1500/1500 [==============================] - 73s 48ms/step - loss: 0.3822 - accuracy: 0.8626 - val_loss: 0.2996 - val_accuracy: 0.8899\n",
      "Epoch 2/10\n",
      "1500/1500 [==============================] - 70s 47ms/step - loss: 0.2330 - accuracy: 0.9135 - val_loss: 0.2614 - val_accuracy: 0.9064\n",
      "Epoch 3/10\n",
      "1500/1500 [==============================] - 70s 47ms/step - loss: 0.1635 - accuracy: 0.9398 - val_loss: 0.2662 - val_accuracy: 0.9080\n",
      "Epoch 4/10\n",
      "1500/1500 [==============================] - 65s 44ms/step - loss: 0.1089 - accuracy: 0.9594 - val_loss: 0.3078 - val_accuracy: 0.9012\n",
      "Epoch 5/10\n",
      "1500/1500 [==============================] - 65s 44ms/step - loss: 0.0687 - accuracy: 0.9751 - val_loss: 0.3218 - val_accuracy: 0.9085\n",
      "Epoch 6/10\n",
      "1500/1500 [==============================] - 66s 44ms/step - loss: 0.0482 - accuracy: 0.9824 - val_loss: 0.3670 - val_accuracy: 0.9122\n",
      "Epoch 7/10\n",
      "1500/1500 [==============================] - 68s 45ms/step - loss: 0.0339 - accuracy: 0.9883 - val_loss: 0.4192 - val_accuracy: 0.9100\n",
      "Epoch 8/10\n",
      "1500/1500 [==============================] - 66s 44ms/step - loss: 0.0248 - accuracy: 0.9916 - val_loss: 0.4591 - val_accuracy: 0.9068\n",
      "Epoch 9/10\n",
      "1500/1500 [==============================] - 66s 44ms/step - loss: 0.0196 - accuracy: 0.9935 - val_loss: 0.5113 - val_accuracy: 0.9086\n",
      "Epoch 10/10\n",
      "1500/1500 [==============================] - 68s 45ms/step - loss: 0.0200 - accuracy: 0.9929 - val_loss: 0.5459 - val_accuracy: 0.9115\n"
     ]
    }
   ],
   "source": [
    "history = model.fit(train_images, train_labels, epochs=10, validation_split=0.2)"
   ]
  },
  {
   "cell_type": "code",
   "execution_count": null,
   "id": "fb8c2a9f-9b7c-4ba4-8163-d67ba00ca5e0",
   "metadata": {},
   "outputs": [],
   "source": []
  },
  {
   "cell_type": "code",
   "execution_count": null,
   "id": "43844e3e-9f5e-47d6-85df-b5b2393516b7",
   "metadata": {},
   "outputs": [],
   "source": []
  }
 ],
 "metadata": {
  "kernelspec": {
   "display_name": "Python 3 (ipykernel)",
   "language": "python",
   "name": "python3"
  },
  "language_info": {
   "codemirror_mode": {
    "name": "ipython",
    "version": 3
   },
   "file_extension": ".py",
   "mimetype": "text/x-python",
   "name": "python",
   "nbconvert_exporter": "python",
   "pygments_lexer": "ipython3",
   "version": "3.11.3"
  }
 },
 "nbformat": 4,
 "nbformat_minor": 5
}
